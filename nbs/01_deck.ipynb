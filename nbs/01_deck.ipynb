{
 "cells": [
  {
   "cell_type": "markdown",
   "metadata": {},
   "source": [
    "# deck - a deck of cards\n",
    "\n",
    "> this notebook contains execution of the card deck"
   ]
  },
  {
   "cell_type": "code",
   "execution_count": null,
   "metadata": {},
   "outputs": [],
   "source": [
    "#| default_exp deck"
   ]
  },
  {
   "cell_type": "code",
   "execution_count": null,
   "metadata": {},
   "outputs": [],
   "source": [
    "#| export\n",
    "from nbdev_sample.card import *\n",
    "from fastcore.utils import *"
   ]
  },
  {
   "cell_type": "code",
   "execution_count": null,
   "metadata": {},
   "outputs": [],
   "source": [
    "#| hide\n",
    "from nbdev.showdoc import *\n",
    "from fastcore.test import *"
   ]
  },
  {
   "cell_type": "code",
   "execution_count": null,
   "metadata": {},
   "outputs": [],
   "source": [
    "#| export\n",
    "class Deck:\n",
    "    \"\"\"\n",
    "        A class representing a deck of cards\n",
    "    \"\"\"\n",
    "    def __init__(self):\n",
    "        self.cards = [Card(s,r) for s in range(4) for r in range(1,14)]\n",
    "    def __len__(self):\n",
    "        return len(self.cards)\n",
    "    def __str__(self):\n",
    "        return \"; \\n\".join(map(str, self.cards))\n",
    "    def __contains__(self, card):\n",
    "        return card in self.cards\n",
    "    __repr__ = __str__"
   ]
  },
  {
   "cell_type": "code",
   "execution_count": null,
   "metadata": {},
   "outputs": [
    {
     "data": {
      "text/plain": [
       "Card is A of C; \n",
       "Card is 2 of C; \n",
       "Card is 3 of C; \n",
       "Card is 4 of C; \n",
       "Card is 5 of C; \n",
       "Card is 6 of C; \n",
       "Card is 7 of C; \n",
       "Card is 8 of C; \n",
       "Card is 9 of C; \n",
       "Card is 10 of C; \n",
       "Card is J of C; \n",
       "Card is Q of C; \n",
       "Card is K of C; \n",
       "Card is A of D; \n",
       "Card is 2 of D; \n",
       "Card is 3 of D; \n",
       "Card is 4 of D; \n",
       "Card is 5 of D; \n",
       "Card is 6 of D; \n",
       "Card is 7 of D; \n",
       "Card is 8 of D; \n",
       "Card is 9 of D; \n",
       "Card is 10 of D; \n",
       "Card is J of D; \n",
       "Card is Q of D; \n",
       "Card is K of D; \n",
       "Card is A of H; \n",
       "Card is 2 of H; \n",
       "Card is 3 of H; \n",
       "Card is 4 of H; \n",
       "Card is 5 of H; \n",
       "Card is 6 of H; \n",
       "Card is 7 of H; \n",
       "Card is 8 of H; \n",
       "Card is 9 of H; \n",
       "Card is 10 of H; \n",
       "Card is J of H; \n",
       "Card is Q of H; \n",
       "Card is K of H; \n",
       "Card is A of S; \n",
       "Card is 2 of S; \n",
       "Card is 3 of S; \n",
       "Card is 4 of S; \n",
       "Card is 5 of S; \n",
       "Card is 6 of S; \n",
       "Card is 7 of S; \n",
       "Card is 8 of S; \n",
       "Card is 9 of S; \n",
       "Card is 10 of S; \n",
       "Card is J of S; \n",
       "Card is Q of S; \n",
       "Card is K of S"
      ]
     },
     "execution_count": null,
     "metadata": {},
     "output_type": "execute_result"
    }
   ],
   "source": [
    "Deck()"
   ]
  },
  {
   "cell_type": "code",
   "execution_count": null,
   "metadata": {},
   "outputs": [
    {
     "data": {
      "text/markdown": [
       "---\n",
       "\n",
       "[source](https://github.com/sush4nt/nbdev_sample/blob/main/nbdev_sample/deck.py#L11){target=\"_blank\" style=\"float:right; font-size:smaller\"}\n",
       "\n",
       "### Deck\n",
       "\n",
       ">      Deck ()\n",
       "\n",
       "A class representing a deck of cards"
      ],
      "text/plain": [
       "---\n",
       "\n",
       "[source](https://github.com/sush4nt/nbdev_sample/blob/main/nbdev_sample/deck.py#L11){target=\"_blank\" style=\"float:right; font-size:smaller\"}\n",
       "\n",
       "### Deck\n",
       "\n",
       ">      Deck ()\n",
       "\n",
       "A class representing a deck of cards"
      ]
     },
     "execution_count": null,
     "metadata": {},
     "output_type": "execute_result"
    }
   ],
   "source": [
    "show_doc(Deck)"
   ]
  },
  {
   "cell_type": "code",
   "execution_count": null,
   "metadata": {},
   "outputs": [],
   "source": [
    "deck = Deck()"
   ]
  },
  {
   "cell_type": "code",
   "execution_count": null,
   "metadata": {},
   "outputs": [
    {
     "data": {
      "text/plain": [
       "Card is A of C; \n",
       "Card is 2 of C; \n",
       "Card is 3 of C; \n",
       "Card is 4 of C; \n",
       "Card is 5 of C; \n",
       "Card is 6 of C; \n",
       "Card is 7 of C; \n",
       "Card is 8 of C; \n",
       "Card is 9 of C; \n",
       "Card is 10 of C; \n",
       "Card is J of C; \n",
       "Card is Q of C; \n",
       "Card is K of C; \n",
       "Card is A of D; \n",
       "Card is 2 of D; \n",
       "Card is 3 of D; \n",
       "Card is 4 of D; \n",
       "Card is 5 of D; \n",
       "Card is 6 of D; \n",
       "Card is 7 of D; \n",
       "Card is 8 of D; \n",
       "Card is 9 of D; \n",
       "Card is 10 of D; \n",
       "Card is J of D; \n",
       "Card is Q of D; \n",
       "Card is K of D; \n",
       "Card is A of H; \n",
       "Card is 2 of H; \n",
       "Card is 3 of H; \n",
       "Card is 4 of H; \n",
       "Card is 5 of H; \n",
       "Card is 6 of H; \n",
       "Card is 7 of H; \n",
       "Card is 8 of H; \n",
       "Card is 9 of H; \n",
       "Card is 10 of H; \n",
       "Card is J of H; \n",
       "Card is Q of H; \n",
       "Card is K of H; \n",
       "Card is A of S; \n",
       "Card is 2 of S; \n",
       "Card is 3 of S; \n",
       "Card is 4 of S; \n",
       "Card is 5 of S; \n",
       "Card is 6 of S; \n",
       "Card is 7 of S; \n",
       "Card is 8 of S; \n",
       "Card is 9 of S; \n",
       "Card is 10 of S; \n",
       "Card is J of S; \n",
       "Card is Q of S; \n",
       "Card is K of S"
      ]
     },
     "execution_count": null,
     "metadata": {},
     "output_type": "execute_result"
    }
   ],
   "source": [
    "deck"
   ]
  },
  {
   "cell_type": "code",
   "execution_count": null,
   "metadata": {},
   "outputs": [
    {
     "data": {
      "text/plain": [
       "52"
      ]
     },
     "execution_count": null,
     "metadata": {},
     "output_type": "execute_result"
    }
   ],
   "source": [
    "len(deck)"
   ]
  },
  {
   "cell_type": "code",
   "execution_count": null,
   "metadata": {},
   "outputs": [],
   "source": [
    "test_eq(len(deck), 52)"
   ]
  },
  {
   "cell_type": "markdown",
   "metadata": {},
   "source": [
    "These are the suits available in the `Card`"
   ]
  },
  {
   "cell_type": "code",
   "execution_count": null,
   "metadata": {},
   "outputs": [
    {
     "data": {
      "text/plain": [
       "['C', 'D', 'H', 'S']"
      ]
     },
     "execution_count": null,
     "metadata": {},
     "output_type": "execute_result"
    }
   ],
   "source": [
    "suits"
   ]
  },
  {
   "cell_type": "markdown",
   "metadata": {},
   "source": [
    "Check if a `Card` is in the `Deck` or not"
   ]
  },
  {
   "cell_type": "code",
   "execution_count": null,
   "metadata": {},
   "outputs": [
    {
     "data": {
      "text/plain": [
       "True"
      ]
     },
     "execution_count": null,
     "metadata": {},
     "output_type": "execute_result"
    }
   ],
   "source": [
    "Card(1,1) in deck"
   ]
  },
  {
   "cell_type": "code",
   "execution_count": null,
   "metadata": {},
   "outputs": [],
   "source": [
    "#| export\n",
    "@patch\n",
    "def pop(self:Deck,\n",
    "        idx: int=-1      # The index of the card to remove from the deck, by default it pops the last one\n",
    "       ):\n",
    "    \"\"\"\n",
    "        Remove the card from the deck\n",
    "    \"\"\"\n",
    "    return self.cards.pop(idx)"
   ]
  },
  {
   "cell_type": "markdown",
   "metadata": {},
   "source": [
    "Popping a card from the deck "
   ]
  },
  {
   "cell_type": "code",
   "execution_count": null,
   "metadata": {},
   "outputs": [],
   "source": [
    "deck = Deck()\n",
    "test_eq(deck.pop(), Card(3,13))"
   ]
  },
  {
   "cell_type": "code",
   "execution_count": null,
   "metadata": {},
   "outputs": [
    {
     "data": {
      "text/plain": [
       "51"
      ]
     },
     "execution_count": null,
     "metadata": {},
     "output_type": "execute_result"
    }
   ],
   "source": [
    "len(deck)"
   ]
  },
  {
   "cell_type": "code",
   "execution_count": null,
   "metadata": {},
   "outputs": [],
   "source": [
    "#| hide\n",
    "import nbdev; nbdev.nbdev_export()"
   ]
  }
 ],
 "metadata": {
  "kernelspec": {
   "display_name": "python3",
   "language": "python",
   "name": "python3"
  }
 },
 "nbformat": 4,
 "nbformat_minor": 4
}
