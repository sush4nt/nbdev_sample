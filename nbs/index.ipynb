{
 "cells": [
  {
   "cell_type": "code",
   "execution_count": null,
   "metadata": {},
   "outputs": [],
   "source": [
    "#| hide\n",
    "from nbdev_sample.card import *\n",
    "from nbdev_sample.deck import *"
   ]
  },
  {
   "cell_type": "markdown",
   "metadata": {},
   "source": [
    "# nbdev_sample\n",
    "\n",
    "> A sample repository to test functionalities of nbdev package."
   ]
  },
  {
   "cell_type": "markdown",
   "metadata": {},
   "source": [
    "This file will become your README and also the index of your documentation."
   ]
  },
  {
   "cell_type": "markdown",
   "metadata": {},
   "source": [
    "## Install"
   ]
  },
  {
   "cell_type": "markdown",
   "metadata": {},
   "source": [
    "```sh\n",
    "pip install nbdev_sample\n",
    "```"
   ]
  },
  {
   "cell_type": "markdown",
   "metadata": {},
   "source": [
    "## How to use"
   ]
  },
  {
   "cell_type": "markdown",
   "metadata": {},
   "source": [
    "This is a test library which provides a `Card` class to create, display and compare different cards"
   ]
  },
  {
   "cell_type": "code",
   "execution_count": null,
   "metadata": {},
   "outputs": [
    {
     "data": {
      "text/plain": [
       "Card is 4 of D"
      ]
     },
     "execution_count": null,
     "metadata": {},
     "output_type": "execute_result"
    }
   ],
   "source": [
    "Card(suit=1,rank=4)"
   ]
  },
  {
   "cell_type": "code",
   "execution_count": null,
   "metadata": {},
   "outputs": [
    {
     "data": {
      "text/plain": [
       "['C', 'D', 'H', 'S']"
      ]
     },
     "execution_count": null,
     "metadata": {},
     "output_type": "execute_result"
    }
   ],
   "source": [
    "suits"
   ]
  },
  {
   "cell_type": "code",
   "execution_count": null,
   "metadata": {},
   "outputs": [
    {
     "data": {
      "text/plain": [
       "[None, 'A', '2', '3', '4', '5', '6', '7', '8', '9', '10', 'J', 'Q', 'K']"
      ]
     },
     "execution_count": null,
     "metadata": {},
     "output_type": "execute_result"
    }
   ],
   "source": [
    "ranks"
   ]
  },
  {
   "cell_type": "code",
   "execution_count": null,
   "metadata": {},
   "outputs": [
    {
     "data": {
      "text/plain": [
       "Card is A of C; \n",
       "Card is 2 of C; \n",
       "Card is 3 of C; \n",
       "Card is 4 of C; \n",
       "Card is 5 of C; \n",
       "Card is 6 of C; \n",
       "Card is 7 of C; \n",
       "Card is 8 of C; \n",
       "Card is 9 of C; \n",
       "Card is 10 of C; \n",
       "Card is J of C; \n",
       "Card is Q of C; \n",
       "Card is K of C; \n",
       "Card is A of D; \n",
       "Card is 2 of D; \n",
       "Card is 3 of D; \n",
       "Card is 4 of D; \n",
       "Card is 5 of D; \n",
       "Card is 6 of D; \n",
       "Card is 7 of D; \n",
       "Card is 8 of D; \n",
       "Card is 9 of D; \n",
       "Card is 10 of D; \n",
       "Card is J of D; \n",
       "Card is Q of D; \n",
       "Card is K of D; \n",
       "Card is A of H; \n",
       "Card is 2 of H; \n",
       "Card is 3 of H; \n",
       "Card is 4 of H; \n",
       "Card is 5 of H; \n",
       "Card is 6 of H; \n",
       "Card is 7 of H; \n",
       "Card is 8 of H; \n",
       "Card is 9 of H; \n",
       "Card is 10 of H; \n",
       "Card is J of H; \n",
       "Card is Q of H; \n",
       "Card is K of H; \n",
       "Card is A of S; \n",
       "Card is 2 of S; \n",
       "Card is 3 of S; \n",
       "Card is 4 of S; \n",
       "Card is 5 of S; \n",
       "Card is 6 of S; \n",
       "Card is 7 of S; \n",
       "Card is 8 of S; \n",
       "Card is 9 of S; \n",
       "Card is 10 of S; \n",
       "Card is J of S; \n",
       "Card is Q of S; \n",
       "Card is K of S"
      ]
     },
     "execution_count": null,
     "metadata": {},
     "output_type": "execute_result"
    }
   ],
   "source": [
    "Deck()"
   ]
  },
  {
   "cell_type": "code",
   "execution_count": null,
   "metadata": {},
   "outputs": [
    {
     "data": {
      "text/plain": [
       "Card is K of S"
      ]
     },
     "execution_count": null,
     "metadata": {},
     "output_type": "execute_result"
    }
   ],
   "source": [
    "deck = Deck()\n",
    "deck.pop()"
   ]
  },
  {
   "cell_type": "code",
   "execution_count": null,
   "metadata": {},
   "outputs": [],
   "source": []
  }
 ],
 "metadata": {
  "kernelspec": {
   "display_name": "python3",
   "language": "python",
   "name": "python3"
  }
 },
 "nbformat": 4,
 "nbformat_minor": 4
}
